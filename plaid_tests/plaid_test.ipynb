{
 "cells": [
  {
   "cell_type": "code",
   "execution_count": 1,
   "metadata": {},
   "outputs": [],
   "source": [
    "from plaid_test import get_client, main, get_chase_bank_details"
   ]
  },
  {
   "cell_type": "code",
   "execution_count": 2,
   "metadata": {},
   "outputs": [],
   "source": [
    "client = get_client()"
   ]
  },
  {
   "cell_type": "code",
   "execution_count": 3,
   "metadata": {},
   "outputs": [
    {
     "name": "stdout",
     "output_type": "stream",
     "text": [
      "Name: Chase\n",
      "Institution ID: ins_56\n",
      "Products supported: [assets, auth, balance, transactions, signal, identity_match, income_verification, identity, investments, liabilities, pay_by_bank, processor_payments, recurring_transactions, transfer]\n",
      "URL: https://www.chase.com\n",
      "Primary color: #095aa6\n",
      "Logo: None\n",
      "OAuth support: True\n",
      "Status: {'health_incidents': [{'end_date': datetime.datetime(2021, 11, 7, 11, 25, tzinfo=tzutc()),\n",
      "                       'incident_updates': [{'description': 'Chase will be '\n",
      "                                                            'conducting '\n",
      "                                                            'maintenance on '\n",
      "                                                            'all channels '\n",
      "                                                            'during the '\n",
      "                                                            'following time:\\n'\n",
      "                                                            '\\n'\n",
      "                                                            '12/8/2021 2 PM to '\n",
      "                                                            '6 PM ET',\n",
      "                                             'status': 'SCHEDULED',\n",
      "                                             'updated_date': datetime.datetime(2021, 12, 8, 20, 37, 10, tzinfo=tzutc())}],\n",
      "                       'start_date': datetime.datetime(2021, 11, 5, 22, 25, tzinfo=tzutc()),\n",
      "                       'title': 'Open Banking Scheduled Downtime'},\n",
      "                      {'end_date': datetime.datetime(2021, 12, 8, 17, 0, tzinfo=tzutc()),\n",
      "                       'incident_updates': [{'description': 'Chase is '\n",
      "                                                            'currently '\n",
      "                                                            'performing '\n",
      "                                                            'maintenance that '\n",
      "                                                            'will prevent '\n",
      "                                                            'customers from '\n",
      "                                                            'linking their '\n",
      "                                                            'accounts with '\n",
      "                                                            'Plaid from '\n",
      "                                                            '12/8/21 2:00 PM '\n",
      "                                                            'ET  through '\n",
      "                                                            '12/8/21 6:00 PM '\n",
      "                                                            'ET. Item updates '\n",
      "                                                            'may also be '\n",
      "                                                            'delayed. ',\n",
      "                                             'status': 'SCHEDULED',\n",
      "                                             'updated_date': datetime.datetime(2021, 12, 8, 20, 54, 14, tzinfo=tzutc())}],\n",
      "                       'start_date': datetime.datetime(2021, 12, 8, 13, 0, tzinfo=tzutc()),\n",
      "                       'title': 'Scheduled Maintenance'},\n",
      "                      {'end_date': datetime.datetime(2025, 2, 8, 12, 0, tzinfo=tzutc()),\n",
      "                       'incident_updates': [{'description': 'Chase is '\n",
      "                                                            'currently '\n",
      "                                                            'experiencing '\n",
      "                                                            'downtime '\n",
      "                                                            'impacting all '\n",
      "                                                            'channels and data '\n",
      "                                                            'recipients. Item '\n",
      "                                                            'adds and/or API '\n",
      "                                                            'calls through '\n",
      "                                                            'Plaid are '\n",
      "                                                            'impacted. We will '\n",
      "                                                            'provide an update '\n",
      "                                                            'when Chase has '\n",
      "                                                            'resolved the '\n",
      "                                                            'issue.',\n",
      "                                             'status': 'RESOLVED',\n",
      "                                             'updated_date': datetime.datetime(2025, 2, 8, 12, 14, 31, tzinfo=tzutc())}],\n",
      "                       'start_date': datetime.datetime(2025, 2, 8, 10, 20, tzinfo=tzutc()),\n",
      "                       'title': 'Financial Data Access Issue'}],\n",
      " 'item_logins': None}\n"
     ]
    }
   ],
   "source": [
    "# Assuming you have already initialized your Plaid client as shown in your code\n",
    "chase_details = get_chase_bank_details(client)\n",
    "\n",
    "# If you want to access specific fields from the response\n",
    "if chase_details:\n",
    "    institution = chase_details['institution']\n",
    "    # Access any field you need\n",
    "    print(f\"OAuth support: {institution.oauth}\")\n",
    "    print(f\"Status: {institution.status}\")\n",
    "    # etc."
   ]
  },
  {
   "cell_type": "code",
   "execution_count": 4,
   "metadata": {},
   "outputs": [
    {
     "data": {
      "text/plain": [
       "True"
      ]
     },
     "execution_count": 4,
     "metadata": {},
     "output_type": "execute_result"
    }
   ],
   "source": [
    "institution.oauth"
   ]
  },
  {
   "cell_type": "code",
   "execution_count": null,
   "metadata": {},
   "outputs": [],
   "source": []
  }
 ],
 "metadata": {
  "kernelspec": {
   "display_name": "venv",
   "language": "python",
   "name": "python3"
  },
  "language_info": {
   "codemirror_mode": {
    "name": "ipython",
    "version": 3
   },
   "file_extension": ".py",
   "mimetype": "text/x-python",
   "name": "python",
   "nbconvert_exporter": "python",
   "pygments_lexer": "ipython3",
   "version": "3.12.8"
  }
 },
 "nbformat": 4,
 "nbformat_minor": 2
}
